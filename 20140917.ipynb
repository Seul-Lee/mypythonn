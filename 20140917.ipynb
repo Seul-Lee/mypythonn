{
 "metadata": {
  "name": "",
  "signature": "sha256:e104cdcec293960c2e09a4fa99c4dc9a5cfd71d09f23388830e2581a7518bbb1"
 },
 "nbformat": 3,
 "nbformat_minor": 0,
 "worksheets": [
  {
   "cells": [
    {
     "cell_type": "heading",
     "level": 1,
     "metadata": {},
     "source": [
      "\uc2a4\ud06c\ub9bd\ud2b8 \ud504\ub85c\uadf8\ub798\ubc0d"
     ]
    },
    {
     "cell_type": "heading",
     "level": 2,
     "metadata": {},
     "source": [
      "2012136091 \uc774\uc2ac"
     ]
    },
    {
     "cell_type": "heading",
     "level": 2,
     "metadata": {},
     "source": [
      "\uc81c\ucd9c\uc77c : 2014.09.17"
     ]
    },
    {
     "cell_type": "heading",
     "level": 1,
     "metadata": {},
     "source": [
      " "
     ]
    },
    {
     "cell_type": "heading",
     "level": 4,
     "metadata": {},
     "source": [
      "a=\"Hello Python\" \ubb38\uc790\uc5f4\uc744 Slicing\uacfc \uc5f0\uacb0 \uc5f0\uc0b0\uc790 (+)\ub97c \uc0ac\uc6a9\ud558\uc5ec \"Python Hello\"\ub85c \ubcc0\uacbd\ud558\uc2dc\uc624.\n",
      "[\uc8fc\uc758] a \ubcc0\uc218 \uc790\uccb4\uc5d0 \"Python Hello\" \ubb38\uc790\uc5f4\uc774 \uc800\uc7a5\ub418\uc5b4\uc57c \ud568"
     ]
    },
    {
     "cell_type": "code",
     "collapsed": false,
     "input": [
      "a = 'Hello Python'\n",
      "a = a[6:13] + ' ' + a[0:5]\n",
      "a"
     ],
     "language": "python",
     "metadata": {},
     "outputs": [
      {
       "metadata": {},
       "output_type": "pyout",
       "prompt_number": 1,
       "text": [
        "'Python Hello'"
       ]
      }
     ],
     "prompt_number": 1
    },
    {
     "cell_type": "heading",
     "level": 4,
     "metadata": {},
     "source": [
      "b=\"Hello Python World\" \ubb38\uc790\uc5f4\uc744 Slicing\uacfc \uc5f0\uacb0 \uc5f0\uc0b0\uc790 (+)\ub97c \uc0ac\uc6a9\ud558\uc5ec \"World Python Hello\"\ub85c \ubcc0\uacbd\ud558\uc2dc\uc624.\n",
      "[\uc8fc\uc758] b \ubcc0\uc218 \uc790\uccb4\uc5d0 \"Python Hello\" \ubb38\uc790\uc5f4\uc774 \uc800\uc7a5\ub418\uc5b4\uc57c \ud568"
     ]
    },
    {
     "cell_type": "code",
     "collapsed": false,
     "input": [
      "b = 'Hello Python World'\n",
      "b = b[13:19] + ' ' + b[6:12] + ' ' + b[0:5]\n",
      "b"
     ],
     "language": "python",
     "metadata": {},
     "outputs": [
      {
       "metadata": {},
       "output_type": "pyout",
       "prompt_number": 2,
       "text": [
        "'World Python Hello'"
       ]
      }
     ],
     "prompt_number": 2
    },
    {
     "cell_type": "heading",
     "level": 4,
     "metadata": {},
     "source": [
      "c=\"Hello\"\ub97c \"olleH\"\ub85c \ubcc0\uacbd\ud558\uc2dc\uc624\n",
      "[\uc8fc\uc758] c \ubcc0\uc218 \uc790\uccb4\uc5d0 \"olleH\" \ubb38\uc790\uc5f4\uc774 \uc800\uc7a5\ub418\uc5b4\uc57c \ud568"
     ]
    },
    {
     "cell_type": "code",
     "collapsed": false,
     "input": [
      "c = 'Hello'\n",
      "c = c[::-1]\n",
      "c"
     ],
     "language": "python",
     "metadata": {},
     "outputs": [
      {
       "metadata": {},
       "output_type": "pyout",
       "prompt_number": 3,
       "text": [
        "'olleH'"
       ]
      }
     ],
     "prompt_number": 3
    },
    {
     "cell_type": "heading",
     "level": 4,
     "metadata": {},
     "source": [
      "s=\"python\"\uc5d0 \ub300\ud574 \ub2e4\uc74c \ubb38\uc81c\ub97c \ud480\uc5b4\ubcf4\uc2dc\uc624."
     ]
    },
    {
     "cell_type": "markdown",
     "metadata": {},
     "source": [
      "s[0], s[0][0], s[0][0][0]\uc740 \uac01\uac01 \uc5b4\ub5a4 \uac12\uc774 \ub098\uc624\ub294\uc9c0 \ud655\uc778\ud558\uace0 \uadf8 \uc774\uc720\ub97c \ub098\ub984\ub300\ub85c \uc124\uba85\ud574 \ubcf4\uc2dc\uc624."
     ]
    },
    {
     "cell_type": "code",
     "collapsed": false,
     "input": [
      "s = \"python\"\n",
      "print s[0]\n",
      "print s[0][0]\n",
      "print s[0][0][0]"
     ],
     "language": "python",
     "metadata": {},
     "outputs": [
      {
       "output_type": "stream",
       "stream": "stdout",
       "text": [
        "p\n",
        "p\n",
        "p\n"
       ]
      }
     ],
     "prompt_number": 5
    },
    {
     "cell_type": "markdown",
     "metadata": {},
     "source": [
      "\"python\"\uc740 1\ucc28\uc6d0\uc801\uc778 \ubc30\uc5f4\uc774\ubbc0\ub85c \uc704\uce58\ub97c \uac00\ub974\ud0a4\ub294 \uccab\ubc88\uc9f8 \uc22b\uc790\uc5d0 \uc758\ubbf8\uac00 \uc788\ub2e4. \uadf8\ub7ec\ubbc0\ub85c \uc138 \uacbd\uc6b0 \ubaa8\ub450 s[0]\uc778 p \ubb38\uc790\ub97c \ucd9c\ub825\ud55c\ub2e4. \uccab\ubc88\uc9f8 \uc22b\uc790\uac00 \uc544\ub2cc \ub450\ubc88\uc9f8, \uc138\ubc88\uc9f8 \uc22b\uc790\uc5d0 0\uc774 \uc544\ub2cc \ub2e4\ub978 \uc218\uac00 \uc785\ub825\ub418\uba74 \uc624\ub958\uac00 \uc0dd\uae34\ub2e4. 0\uc740 \uc544\ubb34\ub9ac \ub9ce\uc774 \uc0dd\uaca8\ub3c4 \uc601\ud5a5\uc744 \uc8fc\uc9c0 \uc54a\ub294\ub2e4."
     ]
    },
    {
     "cell_type": "heading",
     "level": 1,
     "metadata": {},
     "source": [
      " "
     ]
    },
    {
     "cell_type": "markdown",
     "metadata": {},
     "source": [
      "s[-100], s[100]\uc740 \uac12\uc774 \ub098\uc624\ub294\uc9c0 \uc5d0\ub7ec\uac00 \ub098\uc624\ub294\uc9c0 \ud655\uc778\ud558\uace0 \uadf8 \uacb0\uacfc\uc5d0 \ub300\ud55c \uc774\uc720\ub97c \ub098\ub984\ub300\ub85c \uc124\uba85\ud574 \ubcf4\uc2dc\uc624."
     ]
    },
    {
     "cell_type": "code",
     "collapsed": false,
     "input": [
      "s = \"python\"\n",
      "print s[-100]\n",
      "print s[100]"
     ],
     "language": "python",
     "metadata": {},
     "outputs": [
      {
       "ename": "IndexError",
       "evalue": "string index out of range",
       "output_type": "pyerr",
       "traceback": [
        "\u001b[1;31m---------------------------------------------------------------------------\u001b[0m\n\u001b[1;31mIndexError\u001b[0m                                Traceback (most recent call last)",
        "\u001b[1;32m<ipython-input-6-fb3b99675773>\u001b[0m in \u001b[0;36m<module>\u001b[1;34m()\u001b[0m\n\u001b[0;32m      1\u001b[0m \u001b[0ms\u001b[0m \u001b[1;33m=\u001b[0m \u001b[1;34m\"python\"\u001b[0m\u001b[1;33m\u001b[0m\u001b[0m\n\u001b[1;32m----> 2\u001b[1;33m \u001b[1;32mprint\u001b[0m \u001b[0ms\u001b[0m\u001b[1;33m[\u001b[0m\u001b[1;33m-\u001b[0m\u001b[1;36m100\u001b[0m\u001b[1;33m]\u001b[0m\u001b[1;33m\u001b[0m\u001b[0m\n\u001b[0m\u001b[0;32m      3\u001b[0m \u001b[1;32mprint\u001b[0m \u001b[0ms\u001b[0m\u001b[1;33m[\u001b[0m\u001b[1;36m100\u001b[0m\u001b[1;33m]\u001b[0m\u001b[1;33m\u001b[0m\u001b[0m\n",
        "\u001b[1;31mIndexError\u001b[0m: string index out of range"
       ]
      }
     ],
     "prompt_number": 6
    },
    {
     "cell_type": "markdown",
     "metadata": {},
     "source": [
      "\uc5d0\ub7ec\uac00 \ub098\uc628\ub2e4. \uc0c9\uc778 \ubc94\uc704\uac00 \ubb38\uc790\uc5f4\uc758 \ubc94\uc704\ub97c \ub118\uc5b4\uac14\uae30 \ub54c\ubb38\uc774\ub2e4."
     ]
    },
    {
     "cell_type": "heading",
     "level": 1,
     "metadata": {},
     "source": [
      " "
     ]
    },
    {
     "cell_type": "markdown",
     "metadata": {},
     "source": [
      "s[-100, 100]\uc740 \uac12\uc774 \ub098\uc624\ub294\uc9c0 \uc5d0\ub7ec\uac00 \ub098\uc624\ub294\uc9c0 \ud655\uc778\ud558\uace0 \uadf8 \uacb0\uacfc\uc5d0 \ub300\ud55c \uc774\uc720\ub97c \ub098\ub984\ub300\ub85c \uc124\uba85\ud574 \ubcf4\uc2dc\uc624."
     ]
    },
    {
     "cell_type": "code",
     "collapsed": false,
     "input": [
      "s = \"python\"\n",
      "print s[-100, 100]"
     ],
     "language": "python",
     "metadata": {},
     "outputs": [
      {
       "ename": "TypeError",
       "evalue": "string indices must be integers, not tuple",
       "output_type": "pyerr",
       "traceback": [
        "\u001b[1;31m---------------------------------------------------------------------------\u001b[0m\n\u001b[1;31mTypeError\u001b[0m                                 Traceback (most recent call last)",
        "\u001b[1;32m<ipython-input-7-20041a732f7c>\u001b[0m in \u001b[0;36m<module>\u001b[1;34m()\u001b[0m\n\u001b[0;32m      1\u001b[0m \u001b[0ms\u001b[0m \u001b[1;33m=\u001b[0m \u001b[1;34m\"python\"\u001b[0m\u001b[1;33m\u001b[0m\u001b[0m\n\u001b[1;32m----> 2\u001b[1;33m \u001b[1;32mprint\u001b[0m \u001b[0ms\u001b[0m\u001b[1;33m[\u001b[0m\u001b[1;33m-\u001b[0m\u001b[1;36m100\u001b[0m\u001b[1;33m,\u001b[0m \u001b[1;36m100\u001b[0m\u001b[1;33m]\u001b[0m\u001b[1;33m\u001b[0m\u001b[0m\n\u001b[0m",
        "\u001b[1;31mTypeError\u001b[0m: string indices must be integers, not tuple"
       ]
      }
     ],
     "prompt_number": 7
    },
    {
     "cell_type": "markdown",
     "metadata": {},
     "source": [
      "\uc5d0\ub7ec\uac00 \ub098\uc628\ub2e4. \ubb38\uc790\uc5f4\uc740 \uc815\uc218\ub85c \uc0c9\uc778\uc744 \ud574\uc57c\ud558\uae30\ub54c\ubb38\uc774\ub2e4."
     ]
    },
    {
     "cell_type": "heading",
     "level": 1,
     "metadata": {},
     "source": [
      " "
     ]
    },
    {
     "cell_type": "markdown",
     "metadata": {},
     "source": [
      "s[1:-1]\uc758 \uacb0\uacfc\ub97c \ud655\uc778\ud558\uace0 \uadf8 \uacb0\uacfc\uc5d0 \ub300\ud55c \uc774\uc720\ub97c \uc815\ud655\ud558\uac8c \uc124\uba85\ud558\uc2dc\uc624."
     ]
    },
    {
     "cell_type": "code",
     "collapsed": false,
     "input": [
      "s = \"python\"\n",
      "print s[1:-1]"
     ],
     "language": "python",
     "metadata": {},
     "outputs": [
      {
       "output_type": "stream",
       "stream": "stdout",
       "text": [
        "ytho\n"
       ]
      }
     ],
     "prompt_number": 8
    },
    {
     "cell_type": "markdown",
     "metadata": {},
     "source": [
      "s[1:-1]\uc774 \ub73b\ud558\ub294 \ubc94\uc704\uc740 s[1]\ubd80\ud130  6(\uc790\ub8cc\ud615\uc758 \ud06c\uae30)-1 \uc989 s[5] \uc804\uae4c\uc9c0 \uc774\ub2e4. (s[5]\uc5d0\uc11c \uba48\ucd98\ub2e4.) \uadf8\ub7ec\ubbc0\ub85c s[1:-1]\uc740 ytho \uc774 \ucd9c\ub825\ub41c\ub2e4."
     ]
    },
    {
     "cell_type": "heading",
     "level": 1,
     "metadata": {},
     "source": [
      " "
     ]
    },
    {
     "cell_type": "markdown",
     "metadata": {},
     "source": [
      "s[3:-3]\uc758 \uacb0\uacfc\ub97c \ud655\uc778\ud558\uace0 \uadf8 \uacb0\uacfc\uc5d0 \ub300\ud55c \uc774\uc720\ub97c \uc815\ud655\ud558\uac8c \uc124\uba85\ud558\uc2dc\uc624."
     ]
    },
    {
     "cell_type": "code",
     "collapsed": false,
     "input": [
      "s = \"python\"\n",
      "print s[3:-3]"
     ],
     "language": "python",
     "metadata": {},
     "outputs": [
      {
       "output_type": "stream",
       "stream": "stdout",
       "text": [
        "\n"
       ]
      }
     ],
     "prompt_number": 9
    },
    {
     "cell_type": "markdown",
     "metadata": {},
     "source": [
      "s[3:-3]\uc774 \ub73b\ud558\ub294 \ubc94\uc704\uc740 s[3]\ubd80\ud130 6(\uc790\ub8cc\ud615\uc758 \ud06c\uae30)-3 \uc989 s[3] \uc804\uae4c\uc9c0 \uc774\ub2e4. \uadf8\ub7ec\ubbc0\ub85c \uc544\ubb34\uac83\ub3c4 \ucd9c\ub825\ub418\uc9c0 \uc54a\ub294\ub2e4."
     ]
    },
    {
     "cell_type": "heading",
     "level": 4,
     "metadata": {},
     "source": [
      "for\ubb38\uc744 \ud65c\uc6a9\ud558\uc5ec 1\ubd80\ud130 100\uc0ac\uc774\uc758 \ud640\uc218\ub97c \ucd9c\ub825\ud558\uc2dc\uc624."
     ]
    },
    {
     "cell_type": "code",
     "collapsed": false,
     "input": [
      "for a in range (101):\n",
      "    if a%2 == 0 : continue\n",
      "    print a,"
     ],
     "language": "python",
     "metadata": {},
     "outputs": [
      {
       "output_type": "stream",
       "stream": "stdout",
       "text": [
        "1 3 5 7 9 11 13 15 17 19 21 23 25 27 29 31 33 35 37 39 41 43 45 47 49 51 53 55 57 59 61 63 65 67 69 71 73 75 77 79 81 83 85 87 89 91 93 95 97 99\n"
       ]
      }
     ],
     "prompt_number": 10
    },
    {
     "cell_type": "heading",
     "level": 4,
     "metadata": {},
     "source": [
      "while\ubb38\uc744 \ud65c\uc6a9\ud558\uc5ec 1\ubd80\ud130 100\uc0ac\uc774\uc758 \uc9dd\uc218\uc758 \ud569\uc744 \uacc4\uc0b0\ud558\uc5ec \ucd9c\ub825\ud558\uc2dc\uc624."
     ]
    },
    {
     "cell_type": "code",
     "collapsed": false,
     "input": [
      "sum = 0\n",
      "count = 0\n",
      "while count < 100:\n",
      "    count = count + 1\n",
      "    if count % 2 == 0 : sum = sum + count\n",
      "print sum"
     ],
     "language": "python",
     "metadata": {},
     "outputs": [
      {
       "output_type": "stream",
       "stream": "stdout",
       "text": [
        "2550\n"
       ]
      }
     ],
     "prompt_number": 11
    },
    {
     "cell_type": "heading",
     "level": 4,
     "metadata": {},
     "source": [
      "\uc678\ubd80\ub85c \ubd80\ud130 \uc815\uc218\ub97c \uc785\ub825\ubc1b\uc544\uc11c 1\ubd80\ud130 \uadf8 \uc0ac\uc774\uc5d0 \uc874\uc7ac\ud558\ub294 \uc18c\uc218 (Prime number)\ub97c \ucd9c\ub825\ud558\ub294 \ud30c\uc774\uc36c \ud504\ub85c\uadf8\ub7a8\uc744 \uc791\uc131\ud558\uc2dc\uc624."
     ]
    },
    {
     "cell_type": "code",
     "collapsed": false,
     "input": [
      "want = input('int:')\n",
      "num = 2\n",
      "for num in range(want+1):\n",
      "    result = 0\n",
      "    div = 1\n",
      "    while num>=div:\n",
      "        if num%div == 0 :\n",
      "            result = result + 1\n",
      "        div = div + 1\n",
      "    if result == 2:\n",
      "        print num,"
     ],
     "language": "python",
     "metadata": {},
     "outputs": [
      {
       "name": "stdout",
       "output_type": "stream",
       "stream": "stdout",
       "text": [
        "int:100\n"
       ]
      },
      {
       "output_type": "stream",
       "stream": "stdout",
       "text": [
        "2 3 5 7 11 13 17 19 23 29 31 37 41 43 47 53 59 61 67 71 73 79 83 89 97\n"
       ]
      }
     ],
     "prompt_number": 12
    },
    {
     "cell_type": "heading",
     "level": 1,
     "metadata": {},
     "source": [
      " "
     ]
    },
    {
     "cell_type": "heading",
     "level": 4,
     "metadata": {},
     "source": [
      "\uc18c\uac10 \uc2a4\ud06c\ub9bd\ud2b8 \ud504\ub85c\uadf8\ub798\ubc0d\uc744 \ubc30\uc6b0\uba70 \uc9c0\uae08\uae4c\uc9c0 \ub300\ud574\uc654\ub358 \ub2e4\ub978 \ud504\ub85c\uadf8\ub798\ubc0d\ub4e4\uacfc\ub294 \ud504\ub85c\uadf8\ub7a8\uc774 \ub2e4\ub978 \ubc29\uc2dd\uc774\ub77c \ub2f9\ud669\uc744 \ub9ce\uc774 \ud588\uc5c8\ub2e4. \uac8c\ub2e4\uac00 \uce90\ub178\ud53c \ud504\ub85c\uadf8\ub7a8\uc774 \uc124\uce58 \ud560 \ub54c \uacc4\uc18d \uc624\ub958\uac00 \ub098\uc11c 10\ubc88\ub3c4 \ub118\uac8c \uc9c0\uc6b0\uace0 \ub610 \uae54\uc558\ub358 \uac83 \uac19\ub2e4. \uacb0\uad6d\uc740 \ud574\uacb0\uc744 \ud574\ub0b4\uc5b4 \uad49\uc7a5\ud788 \ubfcc\ub4ef\ud558\ub2e4. \uc2dc\uc791\ud558\uae30 \uc804\uae4c\uc9c0\ub294 \uc5c4\uccad\ub098\uac8c \uc5b4\ub824\uc6cc \ubcf4\uc600\ub294\ub370 \ub9c9\uc0c1 \ud504\ub85c\uadf8\ub798\ubc0d\uc744 \uc2dc\uc791\ud558\ub2c8 \uc9c0\uae08\uae4c\uc9c0 \ud574\uc654\ub358 \uac83\ub4e4 \uc911\uc5d0 \uc81c\uc77c \uc7ac\ubc0c\uace0 \uc5b4\ub835\uc9c0 \uc54a\uc740 \uac83 \uac19\ub2e4. \uc544\ub9c8\ub3c4 \uccab \uacfc\uc81c\ub77c \uadf8\ub807\uaca0\uc9c0\ub9cc.. \uc5f4\uc2ec\ud788 \ud574\uc11c \uc798 \uc0ac\uc6a9\ud560 \uc218 \uc788\uac8c \ub410\uc73c\uba74 \uc88b\uaca0\ub2e4."
     ]
    }
   ],
   "metadata": {}
  }
 ]
}