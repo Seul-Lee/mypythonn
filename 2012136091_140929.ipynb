{
 "metadata": {
  "name": "",
  "signature": "sha256:a7de8d61c46c3753afb854b0bfb17ebee4f1961398ce19dee6737eb9aa243c84"
 },
 "nbformat": 3,
 "nbformat_minor": 0,
 "worksheets": [
  {
   "cells": [
    {
     "cell_type": "heading",
     "level": 1,
     "metadata": {},
     "source": [
      "\uc2a4\ud06c\ub9bd\ud2b8\ud504\ub85c\uadf8\ub798\ubc0d"
     ]
    },
    {
     "cell_type": "heading",
     "level": 2,
     "metadata": {},
     "source": [
      "2012136091 \uc774\uc2ac"
     ]
    },
    {
     "cell_type": "heading",
     "level": 2,
     "metadata": {},
     "source": [
      "\uc81c\ucd9c\uc77c : 2014.09.29"
     ]
    },
    {
     "cell_type": "heading",
     "level": 4,
     "metadata": {},
     "source": [
      "\ub2e4\uc74c 6 \uac1c\uc758 Expression\uc5d0 \ub300\ud574 Evaluation \uacb0\uacfc \uac12\uc744 \ucd9c\ub825\ud558\uace0, \ud574\ub2f9 \uacb0\uacfc\uac00 \ub098\uc628 \uc774\uc720\uc5d0 \ub300\ud574 \uc124\uba85\ud558\uc2dc\uc624"
     ]
    },
    {
     "cell_type": "code",
     "collapsed": false,
     "input": [
      "print 1 and 2 and 3 and 4"
     ],
     "language": "python",
     "metadata": {},
     "outputs": [
      {
       "output_type": "stream",
       "stream": "stdout",
       "text": [
        "4\n"
       ]
      }
     ],
     "prompt_number": 1
    },
    {
     "cell_type": "markdown",
     "metadata": {},
     "source": [
      "a and b \ub77c\ub294 \uc5f0\uc0b0\uc5d0\uc11c a\uac00 \uac70\uc9d3\uc774\uba74 a\ub97c a\uac00 \uac70\uc9d3\uc774 \uc544\ub2c8\uba74 b\ub97c \ubc18\ud658\ud558\uae30\ub54c\ubb38\uc5d0 1 and 2 and 3 and 4\ub294 4\uac00 \ucd9c\ub825\ub41c\ub2e4"
     ]
    },
    {
     "cell_type": "code",
     "collapsed": false,
     "input": [
      "print 1 or 2 or 3 or 4"
     ],
     "language": "python",
     "metadata": {},
     "outputs": [
      {
       "output_type": "stream",
       "stream": "stdout",
       "text": [
        "1\n"
       ]
      }
     ],
     "prompt_number": 2
    },
    {
     "cell_type": "markdown",
     "metadata": {},
     "source": [
      "a or b \ub77c\ub294 \uc5f0\uc0b0\uc5d0\uc11c a\uac00 \uac70\uc9d3\uc774\uba74 b\ub97c a\uac00 \uac70\uc9d3\uc774 \uc544\ub2c8\uba74 a\ub97c \ubc18\ud658\ud558\uae30\ub54c\ubb38\uc5d0 1 or 2 or 3 or 4\ub294 1\uc774 \ucd9c\ub825\ub41c\ub2e4"
     ]
    },
    {
     "cell_type": "code",
     "collapsed": false,
     "input": [
      "print 1 and 2 or 3 and 4"
     ],
     "language": "python",
     "metadata": {},
     "outputs": [
      {
       "output_type": "stream",
       "stream": "stdout",
       "text": [
        "2\n"
       ]
      }
     ],
     "prompt_number": 3
    },
    {
     "cell_type": "markdown",
     "metadata": {},
     "source": [
      "\ub17c\ub9ac\uc5f0\uc0b0\uc790\uc758 \uc6b0\uc120\uc21c\uc704\uac00 and\uac00 or\ubcf4\ub2e4 \ub192\uae30\ub54c\ubb38\uc5d0 1 and 2 \ub294 2\uc774\uace0 3 and 4\ub294 4\uc774\uace0 2 or 4\ub294 2\uac00 \ucd9c\ub825\ub41c\ub2e4"
     ]
    },
    {
     "cell_type": "code",
     "collapsed": false,
     "input": [
      "print (1 and 2) or (3 and 4)"
     ],
     "language": "python",
     "metadata": {},
     "outputs": [
      {
       "output_type": "stream",
       "stream": "stdout",
       "text": [
        "2\n"
       ]
      }
     ],
     "prompt_number": 4
    },
    {
     "cell_type": "markdown",
     "metadata": {},
     "source": [
      "\uad04\ud638\ubd80\ud130 \uc5f0\uc0b0\uc744 \ud558\uac8c \ub418\ubbc0\ub85c \uc804 \ubb38\uc81c\uc640 \uc21c\uc11c\uac00 \uac19\ub2e4. \uadf8\ub7ec\ubbc0\ub85c 2\uac00 \ucd9c\ub825\ub41c\ub2e4."
     ]
    },
    {
     "cell_type": "code",
     "collapsed": false,
     "input": [
      "print 1 or 2 and 3 or 4"
     ],
     "language": "python",
     "metadata": {},
     "outputs": [
      {
       "output_type": "stream",
       "stream": "stdout",
       "text": [
        "1\n"
       ]
      }
     ],
     "prompt_number": 5
    },
    {
     "cell_type": "markdown",
     "metadata": {},
     "source": [
      "2 and 3 \uc740 3\uc774\uace0 1 or 3\uc740 1, 1 or 4\ub294 1\uc774\ubbc0\ub85c 1\uc774 \ucd9c\ub825\ub41c\ub2e4."
     ]
    },
    {
     "cell_type": "code",
     "collapsed": false,
     "input": [
      "print (1 or 2) and (3 or 4)"
     ],
     "language": "python",
     "metadata": {},
     "outputs": [
      {
       "output_type": "stream",
       "stream": "stdout",
       "text": [
        "3\n"
       ]
      }
     ],
     "prompt_number": 6
    },
    {
     "cell_type": "markdown",
     "metadata": {},
     "source": [
      "1 or 2\ub294 1, 3 or 4\ub294 3, 1 and 3\uc740 3\uc774\ubbc0\ub85c 3\uc774 \ucd9c\ub825\ub41c\ub2e4."
     ]
    },
    {
     "cell_type": "heading",
     "level": 4,
     "metadata": {},
     "source": [
      "7/5, -7/5, -(7/5)\uc758 \uacb0\uacfc\ub97c \ud655\uc778\ud558\uace0 \uac01\uac01\uc758 \uacb0\uacfc\uac00 \uc65c \uadf8\ub807\uac8c \ub098\uc624\ub294 \uc9c0 \uc124\uba85\ud558\uc2dc\uc624"
     ]
    },
    {
     "cell_type": "markdown",
     "metadata": {},
     "source": [
      "[\ucc38\uace0] \ubaab\uc740 \ud56d\uc0c1 \uc74c\uc758 \ubb34\ud55c\ub300 \ubc29\ud5a5\uc73c\ub85c round up (\ubc18\uc62c\ub9bc) \ub41c\ub2e4\ub294 \uc810\uc744 \uae30\uc5b5\ud574\uc57c \ud568"
     ]
    },
    {
     "cell_type": "code",
     "collapsed": false,
     "input": [
      "print 7/5\n",
      "print -7/5\n",
      "print -(7/5)"
     ],
     "language": "python",
     "metadata": {},
     "outputs": [
      {
       "output_type": "stream",
       "stream": "stdout",
       "text": [
        "1\n",
        "-2\n",
        "-1\n"
       ]
      }
     ],
     "prompt_number": 7
    },
    {
     "cell_type": "markdown",
     "metadata": {},
     "source": [
      "\uc815\uc218 \ubaab\uc740 \uc2e4\uc81c \uac12\ubcf4\ub2e4 \ud06c\uba74 \uc548\ub418\ubbc0\ub85c 7/5\ub294 1.4\uc774\uae30\ub54c\ubb38\uc5d0 1\uc774 \ub418\uace0, -7/5\ub294 -1.4\uc774\uae30\ub54c\ubb38\uc5d0 -2\uac00 \ub418\uace0 -(7/5)\ub294 -1\uc774 \ub41c\ub2e4."
     ]
    },
    {
     "cell_type": "heading",
     "level": 4,
     "metadata": {},
     "source": [
      "\ud0a4\ubcf4\ub4dc\ub85c \uc815\uc218\uac12\uc744 \uc785\ub825 \ubc1b\uace0 \uadf8 \uac12\uc774 \uc591\uc218\uc778\uc9c0 \uc74c\uc218\uc778\uc9c0\ub97c \ube44\ud2b8 \uc5f0\uc0b0\uc790\ub97c \uc774\uc6a9\ud558\uc5ec \ud310\ub2e8\ud558\ub294 \ud504\ub85c\uadf8\ub7a8\uc744 \uc791\uc131\ud558\uc2dc\uc624"
     ]
    },
    {
     "cell_type": "code",
     "collapsed": false,
     "input": [
      "num = input('number : ')\n",
      "if num<<8 >0:\n",
      "    print '\uc591\uc218\uc785\ub2c8\ub2e4.'\n",
      "else :\n",
      "    print '\uc74c\uc218\uc785\ub2c8\ub2e4.'"
     ],
     "language": "python",
     "metadata": {},
     "outputs": [
      {
       "name": "stdout",
       "output_type": "stream",
       "stream": "stdout",
       "text": [
        "number : -98060986876\n"
       ]
      },
      {
       "output_type": "stream",
       "stream": "stdout",
       "text": [
        "\uc74c\uc218\uc785\ub2c8\ub2e4.\n"
       ]
      }
     ],
     "prompt_number": 27
    },
    {
     "cell_type": "heading",
     "level": 4,
     "metadata": {},
     "source": [
      "\ub450 \uac1c\uc758 \ub9ac\uc2a4\ud2b8\ub97c \uc778\uc790\ub85c \ubc1b\uc544\uc11c \uadf8 \ub450 \uac1c\uc758 \ub9ac\uc2a4\ud2b8\uc5d0 \ub300\ud55c '\ud569\uc9d1\ud569'\uc744 \ubc18\ud658\ud558\ub294 \ud568\uc218 list_union(lista, listb)\ub97c \uc791\uc131\ud558\uc2dc\uc624"
     ]
    },
    {
     "cell_type": "code",
     "collapsed": false,
     "input": [
      "def list_union(a,b):\n",
      "    return a+b\n",
      "\n",
      "num = set(list_union ([1, 2, 3], [1, 2, 4]))\n",
      "print num"
     ],
     "language": "python",
     "metadata": {},
     "outputs": [
      {
       "output_type": "stream",
       "stream": "stdout",
       "text": [
        "set([1, 2, 3, 4])\n"
       ]
      }
     ],
     "prompt_number": 75
    },
    {
     "cell_type": "code",
     "collapsed": false,
     "input": [
      "a={-10, -5, 0, -1}\n",
      "b={100,9,0,9}\n",
      "\n",
      "def list_union(a,b):\n",
      "    return a.union(b)\n",
      "\n",
      "print list_union(a,b)\n"
     ],
     "language": "python",
     "metadata": {},
     "outputs": [
      {
       "output_type": "stream",
       "stream": "stdout",
       "text": [
        "set([0, 100, -10, 9, -5, -1])\n"
       ]
      }
     ],
     "prompt_number": 74
    },
    {
     "cell_type": "code",
     "collapsed": false,
     "input": [
      "a={0,1,2}\n",
      "b={0,1,2}\n",
      "\n",
      "def list_union(a,b):\n",
      "    return a.union(b)\n",
      "\n",
      "print list_union(a,b)\n"
     ],
     "language": "python",
     "metadata": {},
     "outputs": [
      {
       "output_type": "stream",
       "stream": "stdout",
       "text": [
        "set([0, 1, 2])\n"
       ]
      }
     ],
     "prompt_number": 76
    },
    {
     "cell_type": "heading",
     "level": 4,
     "metadata": {},
     "source": [
      "\uacbd\ub85c\uc5d0 \ud574\ub2f9\ud558\ub294 \ubb38\uc790\uc5f4 1\uac1c\ub97c \uc785\ub825 \ubc1b\uc544 \uadf8 \uc548\uc5d0 \ub514\ub809\ud1a0\ub9ac \uacbd\ub85c\uba85\uacfc \ud30c\uc77c\uba85\uc744 \ubd84\ub9ac\ud558\uc5ec \ub9ac\uc2a4\ud2b8\ub85c \ubc18\ud658\ud558\ub294 \ud568\uc218 div_path(s)\ub97c \uc791\uc131\ud558\uc2dc\uc624."
     ]
    },
    {
     "cell_type": "code",
     "collapsed": false,
     "input": [
      "def div_path(s):\n",
      "    tmp = s.rfind('/')\n",
      "    return [s[:tmp], s[tmp+1:]]\n",
      "\n",
      "print div_path('/usr/local/bin/python')\n",
      "print div_path('/home/chulsoo/test.txt')"
     ],
     "language": "python",
     "metadata": {},
     "outputs": [
      {
       "output_type": "stream",
       "stream": "stdout",
       "text": [
        "['/usr/local/bin', 'python']\n",
        "['/home/chulsoo', 'test.txt']\n"
       ]
      }
     ],
     "prompt_number": 87
    },
    {
     "cell_type": "heading",
     "level": 4,
     "metadata": {},
     "source": [
      "\uc6f9 URL\ub85c \uc9c0\uc815\ub41c \uc6f9\ud398\uc774\uc9c0\ub97c \ubb38\uc790\uc5f4\ub85c \uac00\uc838\uc640 1) \ubaa8\ub4e0 HTML \ud0dc\uadf8 \ubc0f CSS\uc640 Javascript\ub97c \uc81c\uc678\ud55c \uc21c\uc218 \ud14d\uc2a4\ud2b8\ub9cc\uc744 \ucd9c\ub825\ud558\uace0, 2) \uadf8 \uc21c\uc218 \ud14d\uc2a4\ud2b8 \uc548\uc5d0 \uc874\uc7ac\ud558\ub294 \ub2e8\uc5b4\uac00 \ucd1d \uba87\uac1c\uc778\uc9c0 \ucd9c\ub825\ud558\ub294 \ud504\ub85c\uadf8\ub7a8\uc744 \uc791\uc131\ud558\uc2dc\uc624."
     ]
    },
    {
     "cell_type": "code",
     "collapsed": false,
     "input": [
      "import urllib\n",
      "s = urllib.urlopen('http://www.python.org/').read()\n",
      "print len(dir(s))"
     ],
     "language": "python",
     "metadata": {},
     "outputs": [
      {
       "output_type": "stream",
       "stream": "stdout",
       "text": [
        "71\n"
       ]
      }
     ],
     "prompt_number": 101
    },
    {
     "cell_type": "heading",
     "level": 1,
     "metadata": {},
     "source": [
      " "
     ]
    },
    {
     "cell_type": "markdown",
     "metadata": {},
     "source": [
      "\ud30c\uc774\uc36c\uc740... \ucc98\uc74c\uc5d0\ub294 \uc26c\uc6cc\ubcf4\uc600\uc73c\ub098 \ubb38\uc81c\uac00 \ub108\ubb34 \uc5b4\ub835\ub2e4. \ub450\ubc88\uc9f8 \uacfc\uc81c\ub9cc\uc5d0 \uc5c4\uccad\ub09c \ub09c\uc774\ub3c4\uc758 \uacfc\uc81c\uac00 \ub098\uc628\uac83\uac19\ub2e4. \ubaa8\ub4e0 \ucc45\uacfc \uc778\ud130\ub137\uc744 \ub3d9\uc6d0\ud574\uc11c \uc815\ub9d0 \uc5f4\uc2ec\ud788 \ud588\ub294\ub370 \uc644\ubcbd\ud55c \ub2f5\uc744 \ucc3e\uc9c0\ub294 \ubabb\ud55c\uac83\uac19\ub2e4. \ud558\uc9c0\ub9cc \uae30\ubcf8\uc801\uc778 \uc758\ubbf8\ub294 \ucd5c\ub300\ud55c \uac19\uac8c \ud558\ub3c4\ub85d \ub178\ub825\ud558\uc600\ub2e4. \ud30c\uc774\uc36c\uc774 \uc27d\ub2e4\ub358 \uad50\uc218\ub2d8 \ub9d0\uc500\uc774 \uc0ac\uc2e4\uc774 \uc544\ub2d8\uc744 \ub290\uaf08\uace0.....\uacf5\ubd80\ub97c \uc5c4\uccad\ub098\uac8c \uc5f4\uc2ec\ud788 \ud574\uc57c\uaca0\ub2e4\ub294 \uc0dd\uac01\uc774 \ub4e4\uc5c8\ub2e4. "
     ]
    }
   ],
   "metadata": {}
  }
 ]
}